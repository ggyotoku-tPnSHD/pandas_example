{
  "cells": [
    {
      "cell_type": "code",
      "execution_count": null,
      "id": "bed46842",
      "metadata": {
        "id": "bed46842"
      },
      "outputs": [],
      "source": [
        "# import dependencies\n",
        "import pandas as pd\n",
        "import numpy as np\n",
        "import os\n",
        "import warnings\n",
        "warnings.filterwarnings('ignore')"
      ]
    },
    {
      "cell_type": "code",
      "execution_count": null,
      "id": "546c7353",
      "metadata": {
        "id": "546c7353"
      },
      "outputs": [],
      "source": [
        "# locate file\n",
        "fantasy_df = pd.read_csv(\"Resources/purchase_data.csv\")"
      ]
    },
    {
      "cell_type": "code",
      "execution_count": null,
      "id": "bc0c7533",
      "metadata": {
        "id": "bc0c7533"
      },
      "outputs": [],
      "source": [
        "# !cd"
      ]
    },
    {
      "cell_type": "code",
      "execution_count": null,
      "id": "0d5931e7",
      "metadata": {
        "id": "0d5931e7",
        "outputId": "a6ef5012-5117-477a-ad47-5824e20e4fb4"
      },
      "outputs": [
        {
          "data": {
            "text/html": [
              "<style type=\"text/css\">\n",
              "</style>\n",
              "<table id=\"T_bcdc2_\">\n",
              "  <thead>\n",
              "    <tr>\n",
              "      <th class=\"col_heading level0 col0\" >Total Players</th>\n",
              "    </tr>\n",
              "  </thead>\n",
              "  <tbody>\n",
              "    <tr>\n",
              "      <td id=\"T_bcdc2_row0_col0\" class=\"data row0 col0\" >576</td>\n",
              "    </tr>\n",
              "  </tbody>\n",
              "</table>\n"
            ],
            "text/plain": [
              "<pandas.io.formats.style.Styler at 0x21285929490>"
            ]
          },
          "execution_count": 5,
          "metadata": {},
          "output_type": "execute_result"
        }
      ],
      "source": [
        "#display the total number of players\n",
        "total_players = pd.Series(fantasy_df[\"SN\"])\n",
        "total_players = total_players.unique()\n",
        "total_players = len(total_players)\n",
        "total_number_of_players = pd.DataFrame({\"Total Players\": [total_players]})\n",
        "total_number_of_players.style.hide_index()"
      ]
    },
    {
      "cell_type": "code",
      "execution_count": null,
      "id": "ff7318db",
      "metadata": {
        "id": "ff7318db"
      },
      "outputs": [],
      "source": [
        "# Run basic calculations to obtain number of unique items, average price, etc.\n",
        "# Create a summary data frame to hold the results\n",
        "# Optional: give the displayed data cleaner formatting\n",
        "# Display the summary data frame"
      ]
    },
    {
      "cell_type": "code",
      "execution_count": null,
      "id": "0aba10f8",
      "metadata": {
        "id": "0aba10f8",
        "outputId": "38a55644-7392-450a-ef77-6be8c393680d"
      },
      "outputs": [
        {
          "data": {
            "text/html": [
              "<style type=\"text/css\">\n",
              "</style>\n",
              "<table id=\"T_47942_\">\n",
              "  <thead>\n",
              "    <tr>\n",
              "      <th class=\"col_heading level0 col0\" >Number of Unique Items</th>\n",
              "      <th class=\"col_heading level0 col1\" >Average Price</th>\n",
              "      <th class=\"col_heading level0 col2\" >Number of Purchases</th>\n",
              "      <th class=\"col_heading level0 col3\" >Total Revenue</th>\n",
              "    </tr>\n",
              "  </thead>\n",
              "  <tbody>\n",
              "    <tr>\n",
              "      <td id=\"T_47942_row0_col0\" class=\"data row0 col0\" >179</td>\n",
              "      <td id=\"T_47942_row0_col1\" class=\"data row0 col1\" >$3.05</td>\n",
              "      <td id=\"T_47942_row0_col2\" class=\"data row0 col2\" >780</td>\n",
              "      <td id=\"T_47942_row0_col3\" class=\"data row0 col3\" >$2,379.77</td>\n",
              "    </tr>\n",
              "  </tbody>\n",
              "</table>\n"
            ],
            "text/plain": [
              "<pandas.io.formats.style.Styler at 0x21288a89130>"
            ]
          },
          "execution_count": 7,
          "metadata": {},
          "output_type": "execute_result"
        }
      ],
      "source": [
        "unique_items2 = fantasy_df.value_counts(\"Item ID\").count()\n",
        "average_price = fantasy_df[\"Price\"].mean()\n",
        "total_purchases = fantasy_df[\"Price\"].count()\n",
        "total_revenue = fantasy_df[\"Price\"].sum()\n",
        "\n",
        "purchasing_analysis = pd.DataFrame({\n",
        "    \"Number of Unique Items\": [unique_items2],\n",
        "    \"Average Price\": [average_price],\n",
        "    \"Number of Purchases\": [total_purchases],\n",
        "    \"Total Revenue\": [total_revenue]\n",
        "})\n",
        "\n",
        "format_dict = {\"Average Price\": \"${0:,.2f}\", \"Total Revenue\": \"${0:,.2f}\"}\n",
        "purchasing_analysis_style = purchasing_analysis[[\n",
        "    \"Average Price\", \"Total Revenue\"\n",
        "]].style.format(\"${0:,.2f}\")\n",
        "purchasing_analysis.style.format(format_dict).hide_index()"
      ]
    },
    {
      "cell_type": "code",
      "execution_count": null,
      "id": "e03cc1df",
      "metadata": {
        "id": "e03cc1df",
        "outputId": "05a764cb-bc18-44a7-8e2d-7e9a83c03c99"
      },
      "outputs": [
        {
          "data": {
            "text/html": [
              "<style type=\"text/css\">\n",
              "</style>\n",
              "<table id=\"T_15f02_\">\n",
              "  <thead>\n",
              "    <tr>\n",
              "      <th class=\"blank level0\" >&nbsp;</th>\n",
              "      <th class=\"col_heading level0 col0\" >Total</th>\n",
              "      <th class=\"col_heading level0 col1\" >Percent of Players</th>\n",
              "    </tr>\n",
              "    <tr>\n",
              "      <th class=\"index_name level0\" >Gender</th>\n",
              "      <th class=\"blank col0\" >&nbsp;</th>\n",
              "      <th class=\"blank col1\" >&nbsp;</th>\n",
              "    </tr>\n",
              "  </thead>\n",
              "  <tbody>\n",
              "    <tr>\n",
              "      <th id=\"T_15f02_level0_row0\" class=\"row_heading level0 row0\" >Male</th>\n",
              "      <td id=\"T_15f02_row0_col0\" class=\"data row0 col0\" >484</td>\n",
              "      <td id=\"T_15f02_row0_col1\" class=\"data row0 col1\" >84.03%</td>\n",
              "    </tr>\n",
              "    <tr>\n",
              "      <th id=\"T_15f02_level0_row1\" class=\"row_heading level0 row1\" >Female</th>\n",
              "      <td id=\"T_15f02_row1_col0\" class=\"data row1 col0\" >81</td>\n",
              "      <td id=\"T_15f02_row1_col1\" class=\"data row1 col1\" >14.06%</td>\n",
              "    </tr>\n",
              "    <tr>\n",
              "      <th id=\"T_15f02_level0_row2\" class=\"row_heading level0 row2\" >Other / Non-Disclosed</th>\n",
              "      <td id=\"T_15f02_row2_col0\" class=\"data row2 col0\" >11</td>\n",
              "      <td id=\"T_15f02_row2_col1\" class=\"data row2 col1\" >1.91%</td>\n",
              "    </tr>\n",
              "  </tbody>\n",
              "</table>\n"
            ],
            "text/plain": [
              "<pandas.io.formats.style.Styler at 0x21288adc580>"
            ]
          },
          "execution_count": 8,
          "metadata": {},
          "output_type": "execute_result"
        }
      ],
      "source": [
        "players_count = fantasy_df.drop_duplicates(subset=[\"SN\"])\n",
        "players_count[\"Total\"] = pd.NaT\n",
        "players_count[\"Part of Total\"] = pd.NaT\n",
        "players_count[\"Total\"] = players_count[\"Total\"].fillna(1)\n",
        "players_count[\"Part of Total\"] = players_count[\"Part of Total\"].fillna(1)\n",
        "total_rows = len(players_count)\n",
        "players_count2 = players_count.groupby(\"Gender\").count()\n",
        "players_count3 = (players_count2[\"Part of Total\"] / total_rows) * 100\n",
        "players_count2[\"Percent of Players\"] = players_count3\n",
        "players_count2 = players_count2[[\"Total\", \"Percent of Players\"\n",
        "                                 ]].sort_values(by=\"Total\", ascending=False)\n",
        "players_count2.style.format(\"{:.2f}%\", subset=\"Percent of Players\")"
      ]
    },
    {
      "cell_type": "code",
      "execution_count": null,
      "id": "43342f45",
      "metadata": {
        "id": "43342f45",
        "outputId": "61e8a0f8-218e-458b-9d2e-8f3d00890dc2"
      },
      "outputs": [
        {
          "data": {
            "text/html": [
              "<style type=\"text/css\">\n",
              "</style>\n",
              "<table id=\"T_c172a_\">\n",
              "  <thead>\n",
              "    <tr>\n",
              "      <th class=\"blank level0\" >&nbsp;</th>\n",
              "      <th class=\"col_heading level0 col0\" >Purchase Count</th>\n",
              "      <th class=\"col_heading level0 col1\" >Average Purchase Price</th>\n",
              "      <th class=\"col_heading level0 col2\" >Total Purchase Value</th>\n",
              "      <th class=\"col_heading level0 col3\" >Avg Total Purchase per Person</th>\n",
              "    </tr>\n",
              "    <tr>\n",
              "      <th class=\"index_name level0\" >Gender</th>\n",
              "      <th class=\"blank col0\" >&nbsp;</th>\n",
              "      <th class=\"blank col1\" >&nbsp;</th>\n",
              "      <th class=\"blank col2\" >&nbsp;</th>\n",
              "      <th class=\"blank col3\" >&nbsp;</th>\n",
              "    </tr>\n",
              "  </thead>\n",
              "  <tbody>\n",
              "    <tr>\n",
              "      <th id=\"T_c172a_level0_row0\" class=\"row_heading level0 row0\" >Female</th>\n",
              "      <td id=\"T_c172a_row0_col0\" class=\"data row0 col0\" >113</td>\n",
              "      <td id=\"T_c172a_row0_col1\" class=\"data row0 col1\" >$3.20</td>\n",
              "      <td id=\"T_c172a_row0_col2\" class=\"data row0 col2\" >$361.94</td>\n",
              "      <td id=\"T_c172a_row0_col3\" class=\"data row0 col3\" >$4.47</td>\n",
              "    </tr>\n",
              "    <tr>\n",
              "      <th id=\"T_c172a_level0_row1\" class=\"row_heading level0 row1\" >Male</th>\n",
              "      <td id=\"T_c172a_row1_col0\" class=\"data row1 col0\" >652</td>\n",
              "      <td id=\"T_c172a_row1_col1\" class=\"data row1 col1\" >$3.02</td>\n",
              "      <td id=\"T_c172a_row1_col2\" class=\"data row1 col2\" >$1,967.64</td>\n",
              "      <td id=\"T_c172a_row1_col3\" class=\"data row1 col3\" >$4.07</td>\n",
              "    </tr>\n",
              "    <tr>\n",
              "      <th id=\"T_c172a_level0_row2\" class=\"row_heading level0 row2\" >Other / Non-Disclosed</th>\n",
              "      <td id=\"T_c172a_row2_col0\" class=\"data row2 col0\" >15</td>\n",
              "      <td id=\"T_c172a_row2_col1\" class=\"data row2 col1\" >$3.35</td>\n",
              "      <td id=\"T_c172a_row2_col2\" class=\"data row2 col2\" >$50.19</td>\n",
              "      <td id=\"T_c172a_row2_col3\" class=\"data row2 col3\" >$4.56</td>\n",
              "    </tr>\n",
              "  </tbody>\n",
              "</table>\n"
            ],
            "text/plain": [
              "<pandas.io.formats.style.Styler at 0x21288afa1f0>"
            ]
          },
          "execution_count": 9,
          "metadata": {},
          "output_type": "execute_result"
        }
      ],
      "source": [
        "format_dict2 = {\n",
        "    \"Average Purchase Price\": \"${0:,.2f}\",\n",
        "    \"Total Purchase Value\": \"${0:,.2f}\",\n",
        "    \"Avg Total Purchase per Person\": \"${0:,.2f}\",\n",
        "}\n",
        "fantasy_df_new = fantasy_df\n",
        "fantasy_df_new = fantasy_df_new.groupby(\"Gender\")\n",
        "purchase_count = fantasy_df_new[[\"SN\"]].count()\n",
        "average_purchase_price = fantasy_df_new[[\"Price\"]]\n",
        "average_purchase_price = average_purchase_price.mean()\n",
        "total_purchase_price = fantasy_df_new[[\"Price\"]].sum()\n",
        "fantasy_df2 = pd.merge(purchase_count, average_purchase_price, on=\"Gender\")\n",
        "fantasy_df2 = pd.merge(fantasy_df2, total_purchase_price, on=\"Gender\")\n",
        "fantasy_df3 = fantasy_df2[\"Price_y\"] / players_count2[\"Total\"]\n",
        "fantasy_df2[\"Avg Total Purchase per Person\"] = fantasy_df3\n",
        "fantasy_df2 = fantasy_df2.rename(\n",
        "    columns={\n",
        "        \"SN\": \"Purchase Count\",\n",
        "        \"Price_x\": \"Average Purchase Price\",\n",
        "        \"Price_y\": \"Total Purchase Value\"\n",
        "    })\n",
        "fantasy_df2 = fantasy_df2.style.format(format_dict2)\n",
        "fantasy_df2"
      ]
    },
    {
      "cell_type": "code",
      "execution_count": null,
      "id": "e538e0a2",
      "metadata": {
        "id": "e538e0a2"
      },
      "outputs": [],
      "source": [
        "# print(fantasy_df['Age'].max())\n",
        "# print(fantasy_df['Age'].min())"
      ]
    },
    {
      "cell_type": "code",
      "execution_count": null,
      "id": "d3e17958",
      "metadata": {
        "id": "d3e17958",
        "outputId": "3c5a8eff-6b54-43f6-943f-cfb9861715aa"
      },
      "outputs": [
        {
          "data": {
            "text/html": [
              "<style type=\"text/css\">\n",
              "</style>\n",
              "<table id=\"T_69f8f_\">\n",
              "  <thead>\n",
              "    <tr>\n",
              "      <th class=\"blank level0\" >&nbsp;</th>\n",
              "      <th class=\"col_heading level0 col0\" >Total Count</th>\n",
              "      <th class=\"col_heading level0 col1\" >Percentage of Players</th>\n",
              "    </tr>\n",
              "    <tr>\n",
              "      <th class=\"index_name level0\" ></th>\n",
              "      <th class=\"blank col0\" >&nbsp;</th>\n",
              "      <th class=\"blank col1\" >&nbsp;</th>\n",
              "    </tr>\n",
              "  </thead>\n",
              "  <tbody>\n",
              "    <tr>\n",
              "      <th id=\"T_69f8f_level0_row0\" class=\"row_heading level0 row0\" ><10</th>\n",
              "      <td id=\"T_69f8f_row0_col0\" class=\"data row0 col0\" >17</td>\n",
              "      <td id=\"T_69f8f_row0_col1\" class=\"data row0 col1\" >2.95%</td>\n",
              "    </tr>\n",
              "    <tr>\n",
              "      <th id=\"T_69f8f_level0_row1\" class=\"row_heading level0 row1\" >10-14</th>\n",
              "      <td id=\"T_69f8f_row1_col0\" class=\"data row1 col0\" >22</td>\n",
              "      <td id=\"T_69f8f_row1_col1\" class=\"data row1 col1\" >3.82%</td>\n",
              "    </tr>\n",
              "    <tr>\n",
              "      <th id=\"T_69f8f_level0_row2\" class=\"row_heading level0 row2\" >15-19</th>\n",
              "      <td id=\"T_69f8f_row2_col0\" class=\"data row2 col0\" >107</td>\n",
              "      <td id=\"T_69f8f_row2_col1\" class=\"data row2 col1\" >18.58%</td>\n",
              "    </tr>\n",
              "    <tr>\n",
              "      <th id=\"T_69f8f_level0_row3\" class=\"row_heading level0 row3\" >20-24</th>\n",
              "      <td id=\"T_69f8f_row3_col0\" class=\"data row3 col0\" >258</td>\n",
              "      <td id=\"T_69f8f_row3_col1\" class=\"data row3 col1\" >44.79%</td>\n",
              "    </tr>\n",
              "    <tr>\n",
              "      <th id=\"T_69f8f_level0_row4\" class=\"row_heading level0 row4\" >25-29</th>\n",
              "      <td id=\"T_69f8f_row4_col0\" class=\"data row4 col0\" >77</td>\n",
              "      <td id=\"T_69f8f_row4_col1\" class=\"data row4 col1\" >13.37%</td>\n",
              "    </tr>\n",
              "    <tr>\n",
              "      <th id=\"T_69f8f_level0_row5\" class=\"row_heading level0 row5\" >30-34</th>\n",
              "      <td id=\"T_69f8f_row5_col0\" class=\"data row5 col0\" >52</td>\n",
              "      <td id=\"T_69f8f_row5_col1\" class=\"data row5 col1\" >9.03%</td>\n",
              "    </tr>\n",
              "    <tr>\n",
              "      <th id=\"T_69f8f_level0_row6\" class=\"row_heading level0 row6\" >35-39</th>\n",
              "      <td id=\"T_69f8f_row6_col0\" class=\"data row6 col0\" >31</td>\n",
              "      <td id=\"T_69f8f_row6_col1\" class=\"data row6 col1\" >5.38%</td>\n",
              "    </tr>\n",
              "    <tr>\n",
              "      <th id=\"T_69f8f_level0_row7\" class=\"row_heading level0 row7\" >40+</th>\n",
              "      <td id=\"T_69f8f_row7_col0\" class=\"data row7 col0\" >12</td>\n",
              "      <td id=\"T_69f8f_row7_col1\" class=\"data row7 col1\" >2.08%</td>\n",
              "    </tr>\n",
              "  </tbody>\n",
              "</table>\n"
            ],
            "text/plain": [
              "<pandas.io.formats.style.Styler at 0x21288b15100>"
            ]
          },
          "execution_count": 11,
          "metadata": {},
          "output_type": "execute_result"
        }
      ],
      "source": [
        "format_dict3 = {\"Percentage of Players\": \"{0:,.2f}%\"}\n",
        "bins = [0, 9.99, 14.99, 19.99, 24.99, 29.99, 34.99, 39.99, 50]\n",
        "index = [\"<10\", \"10-14\", \"15-19\", \"20-24\", \"25-29\", \"30-34\", \"35-39\", \"40+\"]\n",
        "total_players2 = fantasy_df.drop_duplicates(subset=\"SN\")\n",
        "total_players2[\"\"] = pd.cut(total_players2[\"Age\"],\n",
        "                            bins=bins,\n",
        "                            labels=index,\n",
        "                            include_lowest=True)\n",
        "total_players3 = total_players2.groupby(by=\"\").count()\n",
        "total_players3[\"Percentage of Players\"] = (total_players3[[\"Age\"]] /\n",
        "                                           total_players3[[\"Age\"]].sum()) * 100\n",
        "total_players3 = total_players3.rename(columns={\"Age\": \"Total Count\"})\n",
        "total_players4 = total_players3[[\"Total Count\", \"Percentage of Players\"\n",
        "                                 ]].style.format(format_dict3)\n",
        "total_players4"
      ]
    },
    {
      "cell_type": "code",
      "execution_count": null,
      "id": "5de4798a",
      "metadata": {
        "id": "5de4798a",
        "outputId": "66f871bb-08c4-4853-8725-5f6effa5b45c"
      },
      "outputs": [
        {
          "data": {
            "text/html": [
              "<style type=\"text/css\">\n",
              "</style>\n",
              "<table id=\"T_ee446_\">\n",
              "  <thead>\n",
              "    <tr>\n",
              "      <th class=\"blank level0\" >&nbsp;</th>\n",
              "      <th class=\"col_heading level0 col0\" >Purchase Count</th>\n",
              "      <th class=\"col_heading level0 col1\" >Average Purchase Price</th>\n",
              "      <th class=\"col_heading level0 col2\" >Total Purchase Value</th>\n",
              "      <th class=\"col_heading level0 col3\" >Avg Total Purchase per Person</th>\n",
              "    </tr>\n",
              "    <tr>\n",
              "      <th class=\"index_name level0\" ></th>\n",
              "      <th class=\"blank col0\" >&nbsp;</th>\n",
              "      <th class=\"blank col1\" >&nbsp;</th>\n",
              "      <th class=\"blank col2\" >&nbsp;</th>\n",
              "      <th class=\"blank col3\" >&nbsp;</th>\n",
              "    </tr>\n",
              "  </thead>\n",
              "  <tbody>\n",
              "    <tr>\n",
              "      <th id=\"T_ee446_level0_row0\" class=\"row_heading level0 row0\" ><10</th>\n",
              "      <td id=\"T_ee446_row0_col0\" class=\"data row0 col0\" >23</td>\n",
              "      <td id=\"T_ee446_row0_col1\" class=\"data row0 col1\" >$3.35</td>\n",
              "      <td id=\"T_ee446_row0_col2\" class=\"data row0 col2\" >$77.13</td>\n",
              "      <td id=\"T_ee446_row0_col3\" class=\"data row0 col3\" >$4.54</td>\n",
              "    </tr>\n",
              "    <tr>\n",
              "      <th id=\"T_ee446_level0_row1\" class=\"row_heading level0 row1\" >10-14</th>\n",
              "      <td id=\"T_ee446_row1_col0\" class=\"data row1 col0\" >28</td>\n",
              "      <td id=\"T_ee446_row1_col1\" class=\"data row1 col1\" >$2.96</td>\n",
              "      <td id=\"T_ee446_row1_col2\" class=\"data row1 col2\" >$82.78</td>\n",
              "      <td id=\"T_ee446_row1_col3\" class=\"data row1 col3\" >$3.76</td>\n",
              "    </tr>\n",
              "    <tr>\n",
              "      <th id=\"T_ee446_level0_row2\" class=\"row_heading level0 row2\" >15-19</th>\n",
              "      <td id=\"T_ee446_row2_col0\" class=\"data row2 col0\" >136</td>\n",
              "      <td id=\"T_ee446_row2_col1\" class=\"data row2 col1\" >$3.04</td>\n",
              "      <td id=\"T_ee446_row2_col2\" class=\"data row2 col2\" >$412.89</td>\n",
              "      <td id=\"T_ee446_row2_col3\" class=\"data row2 col3\" >$3.86</td>\n",
              "    </tr>\n",
              "    <tr>\n",
              "      <th id=\"T_ee446_level0_row3\" class=\"row_heading level0 row3\" >20-24</th>\n",
              "      <td id=\"T_ee446_row3_col0\" class=\"data row3 col0\" >365</td>\n",
              "      <td id=\"T_ee446_row3_col1\" class=\"data row3 col1\" >$3.05</td>\n",
              "      <td id=\"T_ee446_row3_col2\" class=\"data row3 col2\" >$1,114.06</td>\n",
              "      <td id=\"T_ee446_row3_col3\" class=\"data row3 col3\" >$4.32</td>\n",
              "    </tr>\n",
              "    <tr>\n",
              "      <th id=\"T_ee446_level0_row4\" class=\"row_heading level0 row4\" >25-29</th>\n",
              "      <td id=\"T_ee446_row4_col0\" class=\"data row4 col0\" >101</td>\n",
              "      <td id=\"T_ee446_row4_col1\" class=\"data row4 col1\" >$2.90</td>\n",
              "      <td id=\"T_ee446_row4_col2\" class=\"data row4 col2\" >$293.00</td>\n",
              "      <td id=\"T_ee446_row4_col3\" class=\"data row4 col3\" >$3.81</td>\n",
              "    </tr>\n",
              "    <tr>\n",
              "      <th id=\"T_ee446_level0_row5\" class=\"row_heading level0 row5\" >30-34</th>\n",
              "      <td id=\"T_ee446_row5_col0\" class=\"data row5 col0\" >73</td>\n",
              "      <td id=\"T_ee446_row5_col1\" class=\"data row5 col1\" >$2.93</td>\n",
              "      <td id=\"T_ee446_row5_col2\" class=\"data row5 col2\" >$214.00</td>\n",
              "      <td id=\"T_ee446_row5_col3\" class=\"data row5 col3\" >$4.12</td>\n",
              "    </tr>\n",
              "    <tr>\n",
              "      <th id=\"T_ee446_level0_row6\" class=\"row_heading level0 row6\" >35-39</th>\n",
              "      <td id=\"T_ee446_row6_col0\" class=\"data row6 col0\" >41</td>\n",
              "      <td id=\"T_ee446_row6_col1\" class=\"data row6 col1\" >$3.60</td>\n",
              "      <td id=\"T_ee446_row6_col2\" class=\"data row6 col2\" >$147.67</td>\n",
              "      <td id=\"T_ee446_row6_col3\" class=\"data row6 col3\" >$4.76</td>\n",
              "    </tr>\n",
              "    <tr>\n",
              "      <th id=\"T_ee446_level0_row7\" class=\"row_heading level0 row7\" >40+</th>\n",
              "      <td id=\"T_ee446_row7_col0\" class=\"data row7 col0\" >13</td>\n",
              "      <td id=\"T_ee446_row7_col1\" class=\"data row7 col1\" >$2.94</td>\n",
              "      <td id=\"T_ee446_row7_col2\" class=\"data row7 col2\" >$38.24</td>\n",
              "      <td id=\"T_ee446_row7_col3\" class=\"data row7 col3\" >$3.19</td>\n",
              "    </tr>\n",
              "  </tbody>\n",
              "</table>\n"
            ],
            "text/plain": [
              "<pandas.io.formats.style.Styler at 0x21288ac2730>"
            ]
          },
          "execution_count": 12,
          "metadata": {},
          "output_type": "execute_result"
        }
      ],
      "source": [
        "total_players5 = fantasy_df\n",
        "bins = [0, 9.99, 14.99, 19.99, 24.99, 29.99, 34.99, 39.99, 50]\n",
        "index = [\"<10\", \"10-14\", \"15-19\", \"20-24\", \"25-29\", \"30-34\", \"35-39\", \"40+\"]\n",
        "total_players5[\"\"] = pd.cut(fantasy_df[\"Age\"],\n",
        "                            bins=bins,\n",
        "                            labels=index,\n",
        "                            include_lowest=True)\n",
        "total_players5 = total_players5.groupby(by=\"\")\n",
        "purchase_count = total_players5[[\"Age\"]].count()\n",
        "total_purchase_value = total_players5.sum()\n",
        "total_purchase_value = total_purchase_value[[\"Price\"]]\n",
        "average_purchace_price_2 = total_players5.mean()\n",
        "average_purchace_price_2 = average_purchace_price_2[[\"Price\"]]\n",
        "average_total_ppp = total_purchase_value[\"Price\"] / total_players3[\"SN\"]\n",
        "purchase_count[\"Average Purchase Price\"] = average_purchace_price_2\n",
        "purchase_count[\"Total Purchase Value\"] = total_purchase_value\n",
        "purchase_count[\"Avg Total Purchase per Person\"] = average_total_ppp\n",
        "purchase_count = purchase_count.rename(columns={\"Age\": \"Purchase Count\"})\n",
        "purchase_count = purchase_count.style.format(format_dict2)\n",
        "purchase_count"
      ]
    },
    {
      "cell_type": "code",
      "execution_count": null,
      "id": "e69ac981",
      "metadata": {
        "id": "e69ac981",
        "outputId": "cb932990-7207-4988-c9de-f6d5a781c047"
      },
      "outputs": [
        {
          "data": {
            "text/html": [
              "<style type=\"text/css\">\n",
              "</style>\n",
              "<table id=\"T_83e7b_\">\n",
              "  <thead>\n",
              "    <tr>\n",
              "      <th class=\"blank level0\" >&nbsp;</th>\n",
              "      <th class=\"col_heading level0 col0\" >Purchase Count</th>\n",
              "      <th class=\"col_heading level0 col1\" >Average Purchase Price</th>\n",
              "      <th class=\"col_heading level0 col2\" >Total Purchase Value</th>\n",
              "    </tr>\n",
              "    <tr>\n",
              "      <th class=\"index_name level0\" >SN</th>\n",
              "      <th class=\"blank col0\" >&nbsp;</th>\n",
              "      <th class=\"blank col1\" >&nbsp;</th>\n",
              "      <th class=\"blank col2\" >&nbsp;</th>\n",
              "    </tr>\n",
              "  </thead>\n",
              "  <tbody>\n",
              "    <tr>\n",
              "      <th id=\"T_83e7b_level0_row0\" class=\"row_heading level0 row0\" >Lisosia93</th>\n",
              "      <td id=\"T_83e7b_row0_col0\" class=\"data row0 col0\" >5</td>\n",
              "      <td id=\"T_83e7b_row0_col1\" class=\"data row0 col1\" >$3.79</td>\n",
              "      <td id=\"T_83e7b_row0_col2\" class=\"data row0 col2\" >$18.96</td>\n",
              "    </tr>\n",
              "    <tr>\n",
              "      <th id=\"T_83e7b_level0_row1\" class=\"row_heading level0 row1\" >Idastidru52</th>\n",
              "      <td id=\"T_83e7b_row1_col0\" class=\"data row1 col0\" >4</td>\n",
              "      <td id=\"T_83e7b_row1_col1\" class=\"data row1 col1\" >$3.86</td>\n",
              "      <td id=\"T_83e7b_row1_col2\" class=\"data row1 col2\" >$15.45</td>\n",
              "    </tr>\n",
              "    <tr>\n",
              "      <th id=\"T_83e7b_level0_row2\" class=\"row_heading level0 row2\" >Chamjask73</th>\n",
              "      <td id=\"T_83e7b_row2_col0\" class=\"data row2 col0\" >3</td>\n",
              "      <td id=\"T_83e7b_row2_col1\" class=\"data row2 col1\" >$4.61</td>\n",
              "      <td id=\"T_83e7b_row2_col2\" class=\"data row2 col2\" >$13.83</td>\n",
              "    </tr>\n",
              "    <tr>\n",
              "      <th id=\"T_83e7b_level0_row3\" class=\"row_heading level0 row3\" >Iral74</th>\n",
              "      <td id=\"T_83e7b_row3_col0\" class=\"data row3 col0\" >4</td>\n",
              "      <td id=\"T_83e7b_row3_col1\" class=\"data row3 col1\" >$3.41</td>\n",
              "      <td id=\"T_83e7b_row3_col2\" class=\"data row3 col2\" >$13.62</td>\n",
              "    </tr>\n",
              "    <tr>\n",
              "      <th id=\"T_83e7b_level0_row4\" class=\"row_heading level0 row4\" >Iskadarya95</th>\n",
              "      <td id=\"T_83e7b_row4_col0\" class=\"data row4 col0\" >3</td>\n",
              "      <td id=\"T_83e7b_row4_col1\" class=\"data row4 col1\" >$4.37</td>\n",
              "      <td id=\"T_83e7b_row4_col2\" class=\"data row4 col2\" >$13.10</td>\n",
              "    </tr>\n",
              "  </tbody>\n",
              "</table>\n"
            ],
            "text/plain": [
              "<pandas.io.formats.style.Styler at 0x2128590efa0>"
            ]
          },
          "execution_count": 13,
          "metadata": {},
          "output_type": "execute_result"
        }
      ],
      "source": [
        "total_players6 = fantasy_df\n",
        "total_players6 = total_players6.groupby(by=\"SN\")\n",
        "purchase_count2 = total_players6[[\"Age\"]].count()\n",
        "total_purchase_value2 = total_players6.sum()\n",
        "total_purchase_value2 = total_purchase_value2[[\"Price\"]]\n",
        "average_purchace_price_2 = total_players6.mean()\n",
        "average_purchace_price_3 = average_purchace_price_2[[\"Price\"]]\n",
        "purchase_count2[\"Average Purchase Price\"] = average_purchace_price_3\n",
        "purchase_count2[\"Total Purchase Value\"] = total_purchase_value2\n",
        "purchase_count2 = purchase_count2.sort_values(by=\"Total Purchase Value\",\n",
        "                                              ascending=False)\n",
        "purchase_count2 = purchase_count2.head(5)\n",
        "purchase_count2 = purchase_count2.rename(columns={\"Age\": \"Purchase Count\"})\n",
        "purchase_count2 = purchase_count2.style.format(format_dict2)\n",
        "purchase_count2"
      ]
    },
    {
      "cell_type": "code",
      "execution_count": null,
      "id": "a9786a3a",
      "metadata": {
        "id": "a9786a3a",
        "outputId": "b38f9aca-8bab-42c8-91db-fc2fc21f42ee"
      },
      "outputs": [
        {
          "data": {
            "text/html": [
              "<style type=\"text/css\">\n",
              "</style>\n",
              "<table id=\"T_1360b_\">\n",
              "  <thead>\n",
              "    <tr>\n",
              "      <th class=\"blank\" >&nbsp;</th>\n",
              "      <th class=\"blank level0\" >&nbsp;</th>\n",
              "      <th class=\"col_heading level0 col0\" >Purchase Count</th>\n",
              "      <th class=\"col_heading level0 col1\" >Average Purchase Price</th>\n",
              "      <th class=\"col_heading level0 col2\" >Total Purchase Value</th>\n",
              "    </tr>\n",
              "    <tr>\n",
              "      <th class=\"index_name level0\" >Item ID</th>\n",
              "      <th class=\"index_name level1\" >Item Name</th>\n",
              "      <th class=\"blank col0\" >&nbsp;</th>\n",
              "      <th class=\"blank col1\" >&nbsp;</th>\n",
              "      <th class=\"blank col2\" >&nbsp;</th>\n",
              "    </tr>\n",
              "  </thead>\n",
              "  <tbody>\n",
              "    <tr>\n",
              "      <th id=\"T_1360b_level0_row0\" class=\"row_heading level0 row0\" >92</th>\n",
              "      <th id=\"T_1360b_level1_row0\" class=\"row_heading level1 row0\" >Final Critic</th>\n",
              "      <td id=\"T_1360b_row0_col0\" class=\"data row0 col0\" >13</td>\n",
              "      <td id=\"T_1360b_row0_col1\" class=\"data row0 col1\" >$4.61</td>\n",
              "      <td id=\"T_1360b_row0_col2\" class=\"data row0 col2\" >$59.99</td>\n",
              "    </tr>\n",
              "    <tr>\n",
              "      <th id=\"T_1360b_level0_row1\" class=\"row_heading level0 row1\" >178</th>\n",
              "      <th id=\"T_1360b_level1_row1\" class=\"row_heading level1 row1\" >Oathbreaker, Last Hope of the Breaking Storm</th>\n",
              "      <td id=\"T_1360b_row1_col0\" class=\"data row1 col0\" >12</td>\n",
              "      <td id=\"T_1360b_row1_col1\" class=\"data row1 col1\" >$4.23</td>\n",
              "      <td id=\"T_1360b_row1_col2\" class=\"data row1 col2\" >$50.76</td>\n",
              "    </tr>\n",
              "    <tr>\n",
              "      <th id=\"T_1360b_level0_row2\" class=\"row_heading level0 row2\" >145</th>\n",
              "      <th id=\"T_1360b_level1_row2\" class=\"row_heading level1 row2\" >Fiery Glass Crusader</th>\n",
              "      <td id=\"T_1360b_row2_col0\" class=\"data row2 col0\" >9</td>\n",
              "      <td id=\"T_1360b_row2_col1\" class=\"data row2 col1\" >$4.58</td>\n",
              "      <td id=\"T_1360b_row2_col2\" class=\"data row2 col2\" >$41.22</td>\n",
              "    </tr>\n",
              "    <tr>\n",
              "      <th id=\"T_1360b_level0_row3\" class=\"row_heading level0 row3\" >132</th>\n",
              "      <th id=\"T_1360b_level1_row3\" class=\"row_heading level1 row3\" >Persuasion</th>\n",
              "      <td id=\"T_1360b_row3_col0\" class=\"data row3 col0\" >9</td>\n",
              "      <td id=\"T_1360b_row3_col1\" class=\"data row3 col1\" >$3.22</td>\n",
              "      <td id=\"T_1360b_row3_col2\" class=\"data row3 col2\" >$28.99</td>\n",
              "    </tr>\n",
              "    <tr>\n",
              "      <th id=\"T_1360b_level0_row4\" class=\"row_heading level0 row4\" >108</th>\n",
              "      <th id=\"T_1360b_level1_row4\" class=\"row_heading level1 row4\" >Extraction, Quickblade Of Trembling Hands</th>\n",
              "      <td id=\"T_1360b_row4_col0\" class=\"data row4 col0\" >9</td>\n",
              "      <td id=\"T_1360b_row4_col1\" class=\"data row4 col1\" >$3.53</td>\n",
              "      <td id=\"T_1360b_row4_col2\" class=\"data row4 col2\" >$31.77</td>\n",
              "    </tr>\n",
              "  </tbody>\n",
              "</table>\n"
            ],
            "text/plain": [
              "<pandas.io.formats.style.Styler at 0x21285929b50>"
            ]
          },
          "execution_count": 14,
          "metadata": {},
          "output_type": "execute_result"
        }
      ],
      "source": [
        "total_players7 = fantasy_df\n",
        "total_players7 = total_players7.groupby(by=[\"Item ID\", \"Item Name\"])\n",
        "purchase_count3 = total_players7[[\"Age\"]].count()\n",
        "total_purchase_value3 = total_players7.sum()\n",
        "total_purchase_value3 = total_purchase_value3[[\"Price\"]]\n",
        "average_purchace_price_4 = total_players7.mean()\n",
        "average_purchace_price_4 = average_purchace_price_4[[\"Price\"]]\n",
        "purchase_count3[\"Average Purchase Price\"] = average_purchace_price_4\n",
        "purchase_count3[\"Total Purchase Value\"] = total_purchase_value3\n",
        "purchase_count3 = purchase_count3.sort_values(by=\"Age\", ascending=False)\n",
        "purchase_count3 = purchase_count3.rename(columns={\"Age\": \"Purchase Count\"})\n",
        "purchase_count3 = purchase_count3.head(5)\n",
        "purchase_count3 = purchase_count3.style.format(format_dict2)\n",
        "purchase_count3"
      ]
    },
    {
      "cell_type": "code",
      "execution_count": null,
      "id": "f6c5f332",
      "metadata": {
        "id": "f6c5f332",
        "outputId": "27b02621-48a4-4635-9b45-f2f793c95957"
      },
      "outputs": [
        {
          "data": {
            "text/html": [
              "<style type=\"text/css\">\n",
              "</style>\n",
              "<table id=\"T_69c09_\">\n",
              "  <thead>\n",
              "    <tr>\n",
              "      <th class=\"blank\" >&nbsp;</th>\n",
              "      <th class=\"blank level0\" >&nbsp;</th>\n",
              "      <th class=\"col_heading level0 col0\" >Purchase Count</th>\n",
              "      <th class=\"col_heading level0 col1\" >Average Purchase Price</th>\n",
              "      <th class=\"col_heading level0 col2\" >Total Purchase Value</th>\n",
              "    </tr>\n",
              "    <tr>\n",
              "      <th class=\"index_name level0\" >Item ID</th>\n",
              "      <th class=\"index_name level1\" >Item Name</th>\n",
              "      <th class=\"blank col0\" >&nbsp;</th>\n",
              "      <th class=\"blank col1\" >&nbsp;</th>\n",
              "      <th class=\"blank col2\" >&nbsp;</th>\n",
              "    </tr>\n",
              "  </thead>\n",
              "  <tbody>\n",
              "    <tr>\n",
              "      <th id=\"T_69c09_level0_row0\" class=\"row_heading level0 row0\" >92</th>\n",
              "      <th id=\"T_69c09_level1_row0\" class=\"row_heading level1 row0\" >Final Critic</th>\n",
              "      <td id=\"T_69c09_row0_col0\" class=\"data row0 col0\" >13</td>\n",
              "      <td id=\"T_69c09_row0_col1\" class=\"data row0 col1\" >$4.61</td>\n",
              "      <td id=\"T_69c09_row0_col2\" class=\"data row0 col2\" >$59.99</td>\n",
              "    </tr>\n",
              "    <tr>\n",
              "      <th id=\"T_69c09_level0_row1\" class=\"row_heading level0 row1\" >178</th>\n",
              "      <th id=\"T_69c09_level1_row1\" class=\"row_heading level1 row1\" >Oathbreaker, Last Hope of the Breaking Storm</th>\n",
              "      <td id=\"T_69c09_row1_col0\" class=\"data row1 col0\" >12</td>\n",
              "      <td id=\"T_69c09_row1_col1\" class=\"data row1 col1\" >$4.23</td>\n",
              "      <td id=\"T_69c09_row1_col2\" class=\"data row1 col2\" >$50.76</td>\n",
              "    </tr>\n",
              "    <tr>\n",
              "      <th id=\"T_69c09_level0_row2\" class=\"row_heading level0 row2\" >82</th>\n",
              "      <th id=\"T_69c09_level1_row2\" class=\"row_heading level1 row2\" >Nirvana</th>\n",
              "      <td id=\"T_69c09_row2_col0\" class=\"data row2 col0\" >9</td>\n",
              "      <td id=\"T_69c09_row2_col1\" class=\"data row2 col1\" >$4.90</td>\n",
              "      <td id=\"T_69c09_row2_col2\" class=\"data row2 col2\" >$44.10</td>\n",
              "    </tr>\n",
              "    <tr>\n",
              "      <th id=\"T_69c09_level0_row3\" class=\"row_heading level0 row3\" >145</th>\n",
              "      <th id=\"T_69c09_level1_row3\" class=\"row_heading level1 row3\" >Fiery Glass Crusader</th>\n",
              "      <td id=\"T_69c09_row3_col0\" class=\"data row3 col0\" >9</td>\n",
              "      <td id=\"T_69c09_row3_col1\" class=\"data row3 col1\" >$4.58</td>\n",
              "      <td id=\"T_69c09_row3_col2\" class=\"data row3 col2\" >$41.22</td>\n",
              "    </tr>\n",
              "    <tr>\n",
              "      <th id=\"T_69c09_level0_row4\" class=\"row_heading level0 row4\" >103</th>\n",
              "      <th id=\"T_69c09_level1_row4\" class=\"row_heading level1 row4\" >Singed Scalpel</th>\n",
              "      <td id=\"T_69c09_row4_col0\" class=\"data row4 col0\" >8</td>\n",
              "      <td id=\"T_69c09_row4_col1\" class=\"data row4 col1\" >$4.35</td>\n",
              "      <td id=\"T_69c09_row4_col2\" class=\"data row4 col2\" >$34.80</td>\n",
              "    </tr>\n",
              "  </tbody>\n",
              "</table>\n"
            ],
            "text/plain": [
              "<pandas.io.formats.style.Styler at 0x21288b4d700>"
            ]
          },
          "execution_count": 15,
          "metadata": {},
          "output_type": "execute_result"
        }
      ],
      "source": [
        "total_players8 = fantasy_df\n",
        "total_players8 = total_players8.groupby(by=[\"Item ID\", \"Item Name\"])\n",
        "purchase_count4 = total_players8[[\"Age\"]].count()\n",
        "total_purchase_value4 = total_players8.sum()\n",
        "total_purchase_value4 = total_purchase_value4[[\"Price\"]]\n",
        "average_purchace_price_5 = total_players7.mean()\n",
        "average_purchace_price_5 = average_purchace_price_5[[\"Price\"]]\n",
        "purchase_count4[\"Average Purchase Price\"] = average_purchace_price_5\n",
        "purchase_count4[\"Total Purchase Value\"] = total_purchase_value4\n",
        "purchase_count4 = purchase_count4.sort_values(by=\"Total Purchase Value\",\n",
        "                                              ascending=False)\n",
        "purchase_count4 = purchase_count4.rename(columns={\"Age\": \"Purchase Count\"})\n",
        "purchase_count4 = purchase_count4.head(5)\n",
        "purchase_count4 = purchase_count4.style.format(format_dict2)\n",
        "purchase_count4"
      ]
    },
    {
      "cell_type": "code",
      "execution_count": null,
      "id": "8c56c044",
      "metadata": {
        "id": "8c56c044"
      },
      "outputs": [],
      "source": [
        "# the written portion is found in the readme.md"
      ]
    }
  ],
  "metadata": {
    "celltoolbar": "Raw Cell Format",
    "kernelspec": {
      "display_name": "Python 3 (ipykernel)",
      "language": "python",
      "name": "python3"
    },
    "language_info": {
      "codemirror_mode": {
        "name": "ipython",
        "version": 3
      },
      "file_extension": ".py",
      "mimetype": "text/x-python",
      "name": "python",
      "nbconvert_exporter": "python",
      "pygments_lexer": "ipython3",
      "version": "3.9.7"
    },
    "colab": {
      "provenance": []
    }
  },
  "nbformat": 4,
  "nbformat_minor": 5
}